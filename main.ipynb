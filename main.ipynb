{
  "nbformat": 4,
  "nbformat_minor": 0,
  "metadata": {
    "colab": {
      "provenance": [],
      "include_colab_link": true
    },
    "kernelspec": {
      "name": "python3",
      "display_name": "Python 3"
    },
    "language_info": {
      "name": "python"
    }
  },
  "cells": [
    {
      "cell_type": "markdown",
      "metadata": {
        "id": "view-in-github",
        "colab_type": "text"
      },
      "source": [
        "<a href=\"https://colab.research.google.com/github/jjsinger11/clothingCategorization/blob/main/main.ipynb\" target=\"_parent\"><img src=\"https://colab.research.google.com/assets/colab-badge.svg\" alt=\"Open In Colab\"/></a>"
      ]
    },
    {
      "cell_type": "code",
      "execution_count": null,
      "metadata": {
        "id": "fXN6_DNSlVXC"
      },
      "outputs": [],
      "source": [
        "import gzip\n",
        "import json\n",
        "from collections import defaultdict\n",
        "import math\n",
        "import scipy.optimize\n",
        "from sklearn import svm\n",
        "import numpy as np\n",
        "import random\n",
        "import string\n",
        "from sklearn import linear_model\n",
        "from nltk.stem.porter import *\n",
        "from gensim.parsing.preprocessing import remove_stopwords\n",
        "from nltk.corpus import stopwords\n",
        "from nltk.stem import WordNetLemmatizer\n",
        "import nltk\n",
        "from sklearn.feature_extraction.text import TfidfVectorizer\n",
        "from sklearn.feature_extraction.text import CountVectorizer\n",
        "from sklearn.metrics.pairwise import cosine_similarity\n",
        "import matplotlib.pyplot as plt\n",
        "from scipy.sparse import csr_matrix\n",
        "from sklearn.neural_network import MLPClassifier\n",
        "from sklearn.pipeline import make_pipeline\n",
        "from sklearn.naive_bayes import MultinomialNB"
      ]
    },
    {
      "cell_type": "code",
      "source": [
        "import warnings\n",
        "warnings.filterwarnings(\"ignore\")"
      ],
      "metadata": {
        "id": "BICTDNpaltDY"
      },
      "execution_count": null,
      "outputs": []
    },
    {
      "cell_type": "code",
      "source": [
        "data = list()\n",
        "with gzip.open('renttherunway_final_data.json.gz', 'rt') as file:\n",
        "  for line in file:\n",
        "    data.append(json.loads(line))\n",
        "print(\"Length of original dataset: \", len(data))"
      ],
      "metadata": {
        "colab": {
          "base_uri": "https://localhost:8080/"
        },
        "id": "L8zE-VSpmluM",
        "outputId": "fa8358bf-07b9-4061-b47b-24e46bfc2965"
      },
      "execution_count": null,
      "outputs": [
        {
          "output_type": "stream",
          "name": "stdout",
          "text": [
            "Length of original dataset:  192544\n"
          ]
        }
      ]
    },
    {
      "cell_type": "markdown",
      "source": [
        "# Data Cleaning: #\n",
        "\n",
        "Here we will construct a dataset that contains valid review entries."
      ],
      "metadata": {
        "id": "tq6WSuOl1B15"
      }
    },
    {
      "cell_type": "code",
      "source": [
        "# Remove 'Null' rating entries (removal of 82 entries)\n",
        "# Removing entries with no 'rented for' label\n",
        "# Remove unique entry case of party: cocktail\n",
        "\n",
        "data = [d for d in data if (d['rating'] != None and 'rented for' in d.keys() and d['rented for'] != 'party: cocktail')]\n",
        "print(\"Length of cleaned dataset: \", len(data))"
      ],
      "metadata": {
        "id": "UNjZujwqs2ED",
        "colab": {
          "base_uri": "https://localhost:8080/"
        },
        "outputId": "e5197d38-ac67-4b51-f9d2-e9a2104febb1"
      },
      "execution_count": null,
      "outputs": [
        {
          "output_type": "stream",
          "name": "stdout",
          "text": [
            "Length of cleaned dataset:  192451\n"
          ]
        }
      ]
    },
    {
      "cell_type": "code",
      "source": [
        "# Randomly shuffling the data to avoid skews in data splits\n",
        "random.seed(10)\n",
        "random.shuffle(data)"
      ],
      "metadata": {
        "id": "sGRr7cqyeuJ6"
      },
      "execution_count": null,
      "outputs": []
    },
    {
      "cell_type": "markdown",
      "source": [
        "# Explanatory Analyis: #\n",
        "\n",
        "Here we will describe the\n",
        "dataset, including its basic statistics and properties, and report any interesting findings."
      ],
      "metadata": {
        "id": "eEMxDTVc1Q45"
      }
    },
    {
      "cell_type": "code",
      "source": [
        "# Create training, validation, and test splits\n",
        "\n",
        "training_set = data[:8*len(data)//10]\n",
        "validation_set = data[8*len(data)//10 : 9*len(data)//10]\n",
        "test_set = data[9*len(data)//10:]\n",
        "\n",
        "\n",
        "# Number of entries per split\n",
        "\n",
        "print(\"Training set length: \", len(training_set))\n",
        "print(\"Validation set length: \", len(validation_set))\n",
        "print(\"Test set length: \", len(test_set))"
      ],
      "metadata": {
        "colab": {
          "base_uri": "https://localhost:8080/"
        },
        "id": "PMehdpR2xHUZ",
        "outputId": "6e33aa83-0ae5-4dee-e01f-a8effb97ea7d"
      },
      "execution_count": null,
      "outputs": [
        {
          "output_type": "stream",
          "name": "stdout",
          "text": [
            "Training set length:  153960\n",
            "Validation set length:  19245\n",
            "Test set length:  19246\n"
          ]
        }
      ]
    },
    {
      "cell_type": "code",
      "source": [
        "# Create dictionaries for each user's entries and each item's entries\n",
        "\n",
        "entriesPerUser = defaultdict(list)\n",
        "entriesPerItem = defaultdict(list)\n",
        "\n",
        "for d in training_set:\n",
        "    entriesPerUser[d['user_id']].append(d)\n",
        "    entriesPerItem[d['item_id']].append(d)\n",
        "\n",
        "\n",
        "# Number of unique users and items in the training set\n",
        "\n",
        "print(\"Entries per User length\", len(entriesPerUser))\n",
        "print(\"Entries per Item length\", len(entriesPerItem))"
      ],
      "metadata": {
        "id": "YTafdLuSwbf-",
        "colab": {
          "base_uri": "https://localhost:8080/"
        },
        "outputId": "b7986d72-f4ed-4567-be25-c27685913fd8"
      },
      "execution_count": null,
      "outputs": [
        {
          "output_type": "stream",
          "name": "stdout",
          "text": [
            "Entries per User length 90423\n",
            "Entries per Item length 5767\n"
          ]
        }
      ]
    },
    {
      "cell_type": "code",
      "source": [
        "# Obtain \"rating\" values\n",
        "# Obtain \"rented for\" values\n",
        "# Obtain \"review_date\" values\n",
        "\n",
        "ratings = set([int(d['rating']) for d in data])\n",
        "rented_for = set([d['rented for'] for d in data])\n",
        "years = set([int(d['review_date'].split()[-1]) for d in data])\n",
        "\n",
        "# The different options for the two below\n",
        "\n",
        "print(\"Ratings: \", ratings)\n",
        "print(\"Rented for: \", rented_for)\n",
        "print(\"Years: \", sorted(years))\n"
      ],
      "metadata": {
        "colab": {
          "base_uri": "https://localhost:8080/"
        },
        "id": "TYf47EB-zuO-",
        "outputId": "b2418f2d-d228-4678-db3c-873d87fad71b"
      },
      "execution_count": null,
      "outputs": [
        {
          "output_type": "stream",
          "name": "stdout",
          "text": [
            "Ratings:  {2, 4, 6, 8, 10}\n",
            "Rented for:  {'vacation', 'date', 'wedding', 'formal affair', 'party', 'work', 'everyday', 'other'}\n",
            "Years:  [2010, 2011, 2012, 2013, 2014, 2015, 2016, 2017, 2018]\n"
          ]
        }
      ]
    },
    {
      "cell_type": "code",
      "source": [
        "# Compute distribution of reviews per ratings, reviews per rented for, and reviews per year\n",
        "\n",
        "rating_tracker = dict(zip(ratings, np.zeros(len(ratings))))\n",
        "rented_for_tracker = dict(zip(rented_for, np.zeros(len(rented_for))))\n",
        "years_tracker = dict(zip(years,np.zeros(len(years))))\n",
        "\n",
        "for d in data:\n",
        "  rating_tracker[int(d['rating'])] += 1\n",
        "  rented_for_tracker[d['rented for']] += 1\n",
        "  years_tracker[int(d['review_date'].split()[-1])] += 1\n",
        "\n",
        "# Histograms of the above distributions\n",
        "\n",
        "plt.bar(rating_tracker.keys(),rating_tracker.values(),align='center',width=1,color='darkblue',edgecolor='black')\n",
        "plt.xlabel('Rating')\n",
        "plt.ylabel('Count')\n",
        "plt.title('Distribution of Ratings given by Users')\n",
        "plt.show()\n",
        "\n",
        "plt.figure()\n",
        "plt.bar(rented_for_tracker.keys(),rented_for_tracker.values(),align='center',width=1,color='darkred',edgecolor='black')\n",
        "plt.xlabel('Rented For Occasion')\n",
        "plt.ylabel('Count')\n",
        "plt.title('Distribution of \"Rented For\" Occasion for Items by all Users ')\n",
        "plt.xticks(rotation=45)\n",
        "plt.show()\n",
        "\n",
        "plt.figure()\n",
        "plt.bar(years_tracker.keys(),years_tracker.values(),align='center',width=1,color='darkgreen',edgecolor='black')\n",
        "plt.xlabel('Year')\n",
        "plt.ylabel('Count')\n",
        "plt.title('Distribution of Number of Reviews Per Year')\n",
        "plt.xticks(sorted(years))\n",
        "plt.show()"
      ],
      "metadata": {
        "colab": {
          "base_uri": "https://localhost:8080/",
          "height": 892
        },
        "id": "R5iS-73y2O4E",
        "outputId": "c50058b4-b1bc-4dfc-dfa5-b2bbf4774b83"
      },
      "execution_count": null,
      "outputs": [
        {
          "output_type": "display_data",
          "data": {
            "text/plain": [
              "<Figure size 432x288 with 1 Axes>"
            ],
            "image/png": "[encoded data removed]"
          },
          "metadata": {
            "needs_background": "light"
          }
        },
        {
          "output_type": "display_data",
          "data": {
            "text/plain": [
              "<Figure size 432x288 with 1 Axes>"
            ],
            "image/png": "[encoded data removed]"
          },
          "metadata": {
            "needs_background": "light"
          }
        },
        {
          "output_type": "display_data",
          "data": {
            "text/plain": [
              "<Figure size 432x288 with 1 Axes>"
            ],
            "image/png": "[encoded data removed]"
          },
          "metadata": {
            "needs_background": "light"
          }
        }
      ]
    },
    {
      "cell_type": "code",
      "source": [
        "for i in rented_for_tracker.keys():\n",
        "  print((i,rented_for_tracker[i]))"
      ],
      "metadata": {
        "colab": {
          "base_uri": "https://localhost:8080/"
        },
        "id": "okVKca3pbQyS",
        "outputId": "34810878-5c24-4012-f820-75c1d2bab9b3"
      },
      "execution_count": null,
      "outputs": [
        {
          "output_type": "stream",
          "name": "stdout",
          "text": [
            "('vacation', 4073.0)\n",
            "('date', 7387.0)\n",
            "('wedding', 57768.0)\n",
            "('formal affair', 40365.0)\n",
            "('party', 35613.0)\n",
            "('work', 15042.0)\n",
            "('everyday', 16822.0)\n",
            "('other', 15381.0)\n"
          ]
        }
      ]
    },
    {
      "cell_type": "markdown",
      "source": [
        "# Predictive Task: #\n",
        "\n",
        "Given the user’s review on a particular item, we will predict the (‘rented for’) category for the occasion for which the item will be used."
      ],
      "metadata": {
        "id": "MYhofngU0Y7p"
      }
    },
    {
      "cell_type": "code",
      "source": [
        "test_predictions = [d['rented for'] for d in test_set] # The list of original labels in test set\n",
        "validation_predictions = [d['rented for'] for d in validation_set] # The list of original labels in validation set\n",
        "\n",
        "def accuracy(prediction, test):\n",
        "  correct = np.array(prediction) == np.array(test)\n",
        "  return sum(correct)/len(correct)"
      ],
      "metadata": {
        "id": "sSYNsR-mJ2Vu"
      },
      "execution_count": null,
      "outputs": []
    },
    {
      "cell_type": "code",
      "source": [
        "# Baseline Function and accuracy test\n",
        "\n",
        "catDict = rented_for_tracker.keys()\n",
        "baseline_predictions = list()\n",
        "\n",
        "for l in test_set:\n",
        "  cat = random.choice(('other', 'wedding')) # If there's no evidence, just choose the most common category/\"other\"\n",
        "\n",
        "  review = (l['review_text'] + l['review_summary']).lower()\n",
        "  for key in catDict:\n",
        "    if key in review and key != 'other':\n",
        "      cat = key\n",
        "  baseline_predictions.append(cat)\n",
        "\n",
        "print(\"Baseline Accuracy:\", accuracy(baseline_predictions, test_predictions))"
      ],
      "metadata": {
        "id": "M_oMsElNC38x",
        "colab": {
          "base_uri": "https://localhost:8080/"
        },
        "outputId": "0932c200-03ac-4f3d-b307-f526b3518f4f"
      },
      "execution_count": null,
      "outputs": [
        {
          "output_type": "stream",
          "name": "stdout",
          "text": [
            "Baseline Accuracy: 0.36168554504832173\n"
          ]
        }
      ]
    },
    {
      "cell_type": "code",
      "source": [
        "# Model 1 - LinearSVC model on Bag-of-Words approach\n",
        "\n",
        "def feature_BOW(datum, words, wordId, tolower=True, removePunct=True):\n",
        "    feat = [0]*len(words)\n",
        "    punctuation = set(string.punctuation)\n",
        "    r = datum['review_text'] + datum['review_summary']\n",
        "    if tolower:\n",
        "        r = r.lower()\n",
        "    if removePunct:\n",
        "        r = ''.join([c for c in r if not c in punctuation])\n",
        "    for w in r.split():\n",
        "        if w in words:\n",
        "            feat[wordId[w]] += 1\n",
        "    feat.append(1) # offset\n",
        "    return feat\n",
        "\n",
        "def pipeline_BOW(dSize = 1000, tolower=True, removePunct=True):\n",
        "    wordCount = defaultdict(int)\n",
        "    punctuation = set(string.punctuation)\n",
        "    for d in training_set: # Strictly, should just use the *training* data to extract word counts\n",
        "        r = d['review_text'] + d['review_summary']\n",
        "        if tolower:\n",
        "            r = r.lower()\n",
        "        if removePunct:\n",
        "            r = ''.join([c for c in r if not c in punctuation])\n",
        "        for w in r.split():\n",
        "            wordCount[w] += 1\n",
        "\n",
        "    counts = [(wordCount[w], w) for w in wordCount]\n",
        "    counts.sort()\n",
        "    counts.reverse()\n",
        "\n",
        "    words = [x[1] for x in counts[:dSize]]\n",
        "\n",
        "    wordId = dict(zip(words, range(len(words))))\n",
        "    wordSet = set(words)\n",
        "\n",
        "    Xtrain = csr_matrix([feature_BOW(d, words, wordId, tolower, removePunct) for d in training_set])\n",
        "    Xvalid = csr_matrix([feature_BOW(d, words, wordId, tolower, removePunct) for d in validation_set])\n",
        "    ytrain = [d['rented for'] for d in training_set]\n",
        "    yvalid = [d['rented for'] for d in validation_set]\n",
        "\n",
        "    mod_BOW = svm.LinearSVC(C=0.7).fit(Xtrain, ytrain)\n",
        "    predict = mod_BOW.predict(Xvalid)\n",
        "    return accuracy(predict, yvalid)\n",
        "\n",
        "print(\"Accuracy using Bag of Words and LinearSVC: \", pipeline_BOW())"
      ],
      "metadata": {
        "colab": {
          "base_uri": "https://localhost:8080/"
        },
        "id": "rZD0PiqNOrmA",
        "outputId": "d77d3fcf-e349-4269-b904-99b9472b4196"
      },
      "execution_count": null,
      "outputs": [
        {
          "output_type": "stream",
          "name": "stdout",
          "text": [
            "Accuracy using Bag of Words and LinearSVC:  0.572928033255391\n"
          ]
        }
      ]
    },
    {
      "cell_type": "code",
      "source": [
        "# Model 2 - Logistic Regression model on Bag-of-Words approach\n",
        "\n",
        "def feature_BOW(datum, words, wordId, tolower=True, removePunct=True):\n",
        "    feat = [0]*len(words)\n",
        "    punctuation = set(string.punctuation)\n",
        "    r = datum['review_text'] + datum['review_summary']\n",
        "    if tolower:\n",
        "        r = r.lower()\n",
        "    if removePunct:\n",
        "        r = ''.join([c for c in r if not c in punctuation])\n",
        "    for w in r.split():\n",
        "        if w in words:\n",
        "            feat[wordId[w]] += 1\n",
        "    feat.append(1) # offset\n",
        "    return feat\n",
        "\n",
        "def pipeline_BOW(dSize = 1000, tolower=True, removePunct=True):\n",
        "    wordCount = defaultdict(int)\n",
        "    punctuation = set(string.punctuation)\n",
        "    for d in training_set: # Strictly, should just use the *training* data to extract word counts\n",
        "        r = d['review_text'] + d['review_summary']\n",
        "        if tolower:\n",
        "            r = r.lower()\n",
        "        if removePunct:\n",
        "            r = ''.join([c for c in r if not c in punctuation])\n",
        "        for w in r.split():\n",
        "            wordCount[w] += 1\n",
        "\n",
        "    counts = [(wordCount[w], w) for w in wordCount]\n",
        "    counts.sort()\n",
        "    counts.reverse()\n",
        "\n",
        "    words = [x[1] for x in counts[:dSize]]\n",
        "\n",
        "    wordId = dict(zip(words, range(len(words))))\n",
        "    wordSet = set(words)\n",
        "\n",
        "    Xtrain = csr_matrix([feature_BOW(d, words, wordId, tolower, removePunct) for d in training_set])\n",
        "    Xvalid = csr_matrix([feature_BOW(d, words, wordId, tolower, removePunct) for d in validation_set])\n",
        "    ytrain = [d['rented for'] for d in training_set]\n",
        "    yvalid = [d['rented for'] for d in validation_set]\n",
        "\n",
        "    mod_BOW_lin = linear_model.LogisticRegression(C=0.7, solver='sag').fit(Xtrain, ytrain)\n",
        "    predict = mod_BOW_lin.predict(Xvalid)\n",
        "    return accuracy(predict, yvalid)\n",
        "\n",
        "print(\"Accuracy using Bag of Words and Logistic Regression: \", pipeline_BOW())"
      ],
      "metadata": {
        "colab": {
          "base_uri": "https://localhost:8080/"
        },
        "id": "hQ7NeddQb_50",
        "outputId": "42a17b9b-4d3a-43fe-a28d-ed1e04270298"
      },
      "execution_count": null,
      "outputs": [
        {
          "output_type": "stream",
          "name": "stdout",
          "text": [
            "Accuracy using Bag of Words and Logistic Regression:  0.5729799948038452\n"
          ]
        }
      ]
    },
    {
      "cell_type": "code",
      "source": [
        "# Model 3 - TFIDF Vectorizer\n",
        "\n",
        "train_data_texts = [x['review_text'] + x['review_summary'] for x in training_set]\n",
        "validation_data_texts = [x['review_text'] + x['review_summary'] for x in validation_set]\n",
        "train_data_labels = [x['rented for'] for x in training_set]\n",
        "\n",
        "text_transformer = TfidfVectorizer()\n",
        "tranformed_train_text = text_transformer.fit_transform(train_data_texts)\n",
        "transformed_validation_text = text_transformer.transform(validation_data_texts)\n",
        "\n",
        "mod_tfidfvect = linear_model.LogisticRegression(C=0.755, solver='sag')\n",
        "mod_tfidfvect.fit(tranformed_train_text, train_data_labels)\n",
        "pred_tfidfvect = mod_tfidfvect.predict(transformed_validation_text)\n",
        "\n",
        "accu_tfidfvect = accuracy(pred_tfidfvect , validation_predictions)\n",
        "print(\"Accuracy using TF-IDF vectorizer library: \", accu_tfidfvect)\n"
      ],
      "metadata": {
        "colab": {
          "base_uri": "https://localhost:8080/"
        },
        "id": "fW3ETiv5O8Oa",
        "outputId": "0c2b8d52-9f36-46c2-fb31-71a9a2e07fc5"
      },
      "execution_count": null,
      "outputs": [
        {
          "output_type": "stream",
          "name": "stdout",
          "text": [
            "Accuracy using TF-IDF vectorizer library:  0.5951675759937646\n"
          ]
        }
      ]
    },
    {
      "cell_type": "code",
      "source": [
        "# Model 4 - Naive Bayes\n",
        "\n",
        "train_data_texts = [x['review_text'] + x['review_summary'] for x in training_set]\n",
        "validation_data_texts = [x['review_text'] + x['review_summary'] for x in validation_set]\n",
        "train_data_labels = [x['rented for'] for x in training_set]\n",
        "\n",
        "text_transformer = CountVectorizer(stop_words='english', lowercase=True)\n",
        "tranformed_train_text = text_transformer.fit_transform(train_data_texts)\n",
        "transformed_validation_text = text_transformer.transform(validation_data_texts)\n",
        "\n",
        "model_NB = MultinomialNB()\n",
        "model_NB.fit(tranformed_train_text, train_data_labels)\n",
        "pred_NB = model_NB.predict(transformed_validation_text)\n",
        "\n",
        "accu_NB = accuracy(pred_NB , validation_predictions)\n",
        "print(\"Accuracy using Naive Bayes: \", accu_NB)"
      ],
      "metadata": {
        "colab": {
          "base_uri": "https://localhost:8080/"
        },
        "id": "XJe4pxoOQt0y",
        "outputId": "d905efcb-0e81-454f-9690-f44a8385dc9d"
      },
      "execution_count": null,
      "outputs": [
        {
          "output_type": "stream",
          "name": "stdout",
          "text": [
            "Accuracy using Naive Bayes:  0.5672122629254351\n"
          ]
        }
      ]
    },
    {
      "cell_type": "code",
      "source": [
        "# Model 5 - Count Vectorizer\n",
        "\n",
        "train_data_texts = [x['review_text'] + x['review_summary'] for x in training_set]\n",
        "validation_data_texts = [x['review_text'] + x['review_summary'] for x in validation_set]\n",
        "train_data_labels = [x['rented for'] for x in training_set]\n",
        "\n",
        "text_transformer = CountVectorizer(stop_words='english', lowercase=True)\n",
        "tranformed_train_text = text_transformer.fit_transform(train_data_texts)\n",
        "transformed_validation_text = text_transformer.transform(validation_data_texts)\n",
        "\n",
        "mod_countvect = linear_model.LogisticRegression(C=0.7, solver='sag')\n",
        "mod_countvect.fit(tranformed_train_text, train_data_labels)\n",
        "pred_countvect = mod_countvect.predict(transformed_validation_text)\n",
        "\n",
        "accu_countvect = accuracy(pred_countvect , validation_predictions)\n",
        "print(\"Accuracy using Count vectorizer library: \", accu_countvect)\n"
      ],
      "metadata": {
        "id": "x5fJ6Gl0k4vD",
        "colab": {
          "base_uri": "https://localhost:8080/"
        },
        "outputId": "69ef2b3f-a771-4318-b47c-ec2c36e81bde"
      },
      "execution_count": null,
      "outputs": [
        {
          "output_type": "stream",
          "name": "stdout",
          "text": [
            "Accuracy using Count vectorizer library:  0.5822291504286827\n"
          ]
        }
      ]
    }
  ]
}